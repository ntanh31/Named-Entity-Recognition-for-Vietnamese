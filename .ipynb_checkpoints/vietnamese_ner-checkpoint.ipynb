{
 "cells": [
  {
   "cell_type": "code",
   "execution_count": 1,
   "id": "368548a3-267c-4ac3-bcda-809393c5622b",
   "metadata": {
    "colab": {
     "base_uri": "https://localhost:8080/"
    },
    "id": "368548a3-267c-4ac3-bcda-809393c5622b",
    "outputId": "7af29b69-6353-4f3c-b3d4-4892dc96afa0",
    "tags": []
   },
   "outputs": [
    {
     "name": "stdout",
     "output_type": "stream",
     "text": [
      "Requirement already satisfied: tensorflow==2.11.0 in c:\\programdata\\anaconda3\\lib\\site-packages (2.11.0)\n",
      "Requirement already satisfied: tensorflow-intel==2.11.0 in c:\\programdata\\anaconda3\\lib\\site-packages (from tensorflow==2.11.0) (2.11.0)\n",
      "Requirement already satisfied: tensorflow-io-gcs-filesystem>=0.23.1 in c:\\programdata\\anaconda3\\lib\\site-packages (from tensorflow-intel==2.11.0->tensorflow==2.11.0) (0.28.0)\n",
      "Requirement already satisfied: astunparse>=1.6.0 in c:\\programdata\\anaconda3\\lib\\site-packages (from tensorflow-intel==2.11.0->tensorflow==2.11.0) (1.6.3)\n",
      "Requirement already satisfied: tensorboard<2.12,>=2.11 in c:\\programdata\\anaconda3\\lib\\site-packages (from tensorflow-intel==2.11.0->tensorflow==2.11.0) (2.11.0)\n",
      "Requirement already satisfied: wrapt>=1.11.0 in c:\\programdata\\anaconda3\\lib\\site-packages (from tensorflow-intel==2.11.0->tensorflow==2.11.0) (1.14.1)\n",
      "Requirement already satisfied: keras<2.12,>=2.11.0 in c:\\programdata\\anaconda3\\lib\\site-packages (from tensorflow-intel==2.11.0->tensorflow==2.11.0) (2.11.0)\n",
      "Requirement already satisfied: setuptools in c:\\programdata\\anaconda3\\lib\\site-packages (from tensorflow-intel==2.11.0->tensorflow==2.11.0) (63.4.1)\n",
      "Requirement already satisfied: flatbuffers>=2.0 in c:\\programdata\\anaconda3\\lib\\site-packages (from tensorflow-intel==2.11.0->tensorflow==2.11.0) (22.11.23)\n",
      "Requirement already satisfied: numpy>=1.20 in c:\\programdata\\anaconda3\\lib\\site-packages (from tensorflow-intel==2.11.0->tensorflow==2.11.0) (1.21.5)\n",
      "Requirement already satisfied: termcolor>=1.1.0 in c:\\programdata\\anaconda3\\lib\\site-packages (from tensorflow-intel==2.11.0->tensorflow==2.11.0) (2.1.1)\n",
      "Requirement already satisfied: tensorflow-estimator<2.12,>=2.11.0 in c:\\programdata\\anaconda3\\lib\\site-packages (from tensorflow-intel==2.11.0->tensorflow==2.11.0) (2.11.0)\n",
      "Requirement already satisfied: gast<=0.4.0,>=0.2.1 in c:\\programdata\\anaconda3\\lib\\site-packages (from tensorflow-intel==2.11.0->tensorflow==2.11.0) (0.4.0)\n",
      "Requirement already satisfied: six>=1.12.0 in c:\\programdata\\anaconda3\\lib\\site-packages (from tensorflow-intel==2.11.0->tensorflow==2.11.0) (1.16.0)\n",
      "Requirement already satisfied: libclang>=13.0.0 in c:\\programdata\\anaconda3\\lib\\site-packages (from tensorflow-intel==2.11.0->tensorflow==2.11.0) (14.0.6)\n",
      "Requirement already satisfied: opt-einsum>=2.3.2 in c:\\programdata\\anaconda3\\lib\\site-packages (from tensorflow-intel==2.11.0->tensorflow==2.11.0) (3.3.0)\n",
      "Requirement already satisfied: h5py>=2.9.0 in c:\\programdata\\anaconda3\\lib\\site-packages (from tensorflow-intel==2.11.0->tensorflow==2.11.0) (3.7.0)\n",
      "Requirement already satisfied: grpcio<2.0,>=1.24.3 in c:\\programdata\\anaconda3\\lib\\site-packages (from tensorflow-intel==2.11.0->tensorflow==2.11.0) (1.51.1)\n",
      "Requirement already satisfied: absl-py>=1.0.0 in c:\\programdata\\anaconda3\\lib\\site-packages (from tensorflow-intel==2.11.0->tensorflow==2.11.0) (1.3.0)\n",
      "Requirement already satisfied: typing-extensions>=3.6.6 in c:\\programdata\\anaconda3\\lib\\site-packages (from tensorflow-intel==2.11.0->tensorflow==2.11.0) (4.3.0)\n",
      "Requirement already satisfied: google-pasta>=0.1.1 in c:\\programdata\\anaconda3\\lib\\site-packages (from tensorflow-intel==2.11.0->tensorflow==2.11.0) (0.2.0)\n",
      "Requirement already satisfied: protobuf<3.20,>=3.9.2 in c:\\programdata\\anaconda3\\lib\\site-packages (from tensorflow-intel==2.11.0->tensorflow==2.11.0) (3.19.6)\n",
      "Requirement already satisfied: packaging in c:\\programdata\\anaconda3\\lib\\site-packages (from tensorflow-intel==2.11.0->tensorflow==2.11.0) (21.3)\n",
      "Requirement already satisfied: wheel<1.0,>=0.23.0 in c:\\programdata\\anaconda3\\lib\\site-packages (from astunparse>=1.6.0->tensorflow-intel==2.11.0->tensorflow==2.11.0) (0.37.1)\n",
      "Requirement already satisfied: requests<3,>=2.21.0 in c:\\programdata\\anaconda3\\lib\\site-packages (from tensorboard<2.12,>=2.11->tensorflow-intel==2.11.0->tensorflow==2.11.0) (2.28.1)\n",
      "Requirement already satisfied: markdown>=2.6.8 in c:\\programdata\\anaconda3\\lib\\site-packages (from tensorboard<2.12,>=2.11->tensorflow-intel==2.11.0->tensorflow==2.11.0) (3.3.4)\n",
      "Requirement already satisfied: tensorboard-data-server<0.7.0,>=0.6.0 in c:\\programdata\\anaconda3\\lib\\site-packages (from tensorboard<2.12,>=2.11->tensorflow-intel==2.11.0->tensorflow==2.11.0) (0.6.1)\n",
      "Requirement already satisfied: werkzeug>=1.0.1 in c:\\programdata\\anaconda3\\lib\\site-packages (from tensorboard<2.12,>=2.11->tensorflow-intel==2.11.0->tensorflow==2.11.0) (2.0.3)\n",
      "Requirement already satisfied: tensorboard-plugin-wit>=1.6.0 in c:\\programdata\\anaconda3\\lib\\site-packages (from tensorboard<2.12,>=2.11->tensorflow-intel==2.11.0->tensorflow==2.11.0) (1.8.1)\n",
      "Requirement already satisfied: google-auth<3,>=1.6.3 in c:\\programdata\\anaconda3\\lib\\site-packages (from tensorboard<2.12,>=2.11->tensorflow-intel==2.11.0->tensorflow==2.11.0) (2.15.0)\n",
      "Requirement already satisfied: google-auth-oauthlib<0.5,>=0.4.1 in c:\\programdata\\anaconda3\\lib\\site-packages (from tensorboard<2.12,>=2.11->tensorflow-intel==2.11.0->tensorflow==2.11.0) (0.4.6)\n",
      "Requirement already satisfied: pyparsing!=3.0.5,>=2.0.2 in c:\\programdata\\anaconda3\\lib\\site-packages (from packaging->tensorflow-intel==2.11.0->tensorflow==2.11.0) (3.0.9)\n",
      "Requirement already satisfied: pyasn1-modules>=0.2.1 in c:\\programdata\\anaconda3\\lib\\site-packages (from google-auth<3,>=1.6.3->tensorboard<2.12,>=2.11->tensorflow-intel==2.11.0->tensorflow==2.11.0) (0.2.8)\n",
      "Requirement already satisfied: rsa<5,>=3.1.4 in c:\\programdata\\anaconda3\\lib\\site-packages (from google-auth<3,>=1.6.3->tensorboard<2.12,>=2.11->tensorflow-intel==2.11.0->tensorflow==2.11.0) (4.9)\n",
      "Requirement already satisfied: cachetools<6.0,>=2.0.0 in c:\\programdata\\anaconda3\\lib\\site-packages (from google-auth<3,>=1.6.3->tensorboard<2.12,>=2.11->tensorflow-intel==2.11.0->tensorflow==2.11.0) (5.2.0)\n",
      "Requirement already satisfied: requests-oauthlib>=0.7.0 in c:\\programdata\\anaconda3\\lib\\site-packages (from google-auth-oauthlib<0.5,>=0.4.1->tensorboard<2.12,>=2.11->tensorflow-intel==2.11.0->tensorflow==2.11.0) (1.3.1)\n",
      "Requirement already satisfied: idna<4,>=2.5 in c:\\programdata\\anaconda3\\lib\\site-packages (from requests<3,>=2.21.0->tensorboard<2.12,>=2.11->tensorflow-intel==2.11.0->tensorflow==2.11.0) (3.3)\n",
      "Requirement already satisfied: charset-normalizer<3,>=2 in c:\\programdata\\anaconda3\\lib\\site-packages (from requests<3,>=2.21.0->tensorboard<2.12,>=2.11->tensorflow-intel==2.11.0->tensorflow==2.11.0) (2.0.4)\n",
      "Requirement already satisfied: certifi>=2017.4.17 in c:\\programdata\\anaconda3\\lib\\site-packages (from requests<3,>=2.21.0->tensorboard<2.12,>=2.11->tensorflow-intel==2.11.0->tensorflow==2.11.0) (2022.9.14)\n",
      "Requirement already satisfied: urllib3<1.27,>=1.21.1 in c:\\programdata\\anaconda3\\lib\\site-packages (from requests<3,>=2.21.0->tensorboard<2.12,>=2.11->tensorflow-intel==2.11.0->tensorflow==2.11.0) (1.26.11)\n",
      "Requirement already satisfied: pyasn1<0.5.0,>=0.4.6 in c:\\programdata\\anaconda3\\lib\\site-packages (from pyasn1-modules>=0.2.1->google-auth<3,>=1.6.3->tensorboard<2.12,>=2.11->tensorflow-intel==2.11.0->tensorflow==2.11.0) (0.4.8)\n",
      "Requirement already satisfied: oauthlib>=3.0.0 in c:\\programdata\\anaconda3\\lib\\site-packages (from requests-oauthlib>=0.7.0->google-auth-oauthlib<0.5,>=0.4.1->tensorboard<2.12,>=2.11->tensorflow-intel==2.11.0->tensorflow==2.11.0) (3.2.2)\n"
     ]
    }
   ],
   "source": [
    "!pip install tensorflow==2.11.0"
   ]
  },
  {
   "cell_type": "code",
   "execution_count": 2,
   "id": "16769183-ce2e-4973-b478-6bea1490c8b3",
   "metadata": {
    "colab": {
     "base_uri": "https://localhost:8080/"
    },
    "id": "16769183-ce2e-4973-b478-6bea1490c8b3",
    "outputId": "07c4df20-813b-46bd-95ec-624e1b0fab0c",
    "tags": []
   },
   "outputs": [
    {
     "name": "stdout",
     "output_type": "stream",
     "text": [
      "Requirement already satisfied: keras in c:\\programdata\\anaconda3\\lib\\site-packages (2.11.0)\n"
     ]
    }
   ],
   "source": [
    "!pip install keras"
   ]
  },
  {
   "cell_type": "code",
   "execution_count": 3,
   "id": "MCNyZwwPQEEv",
   "metadata": {
    "colab": {
     "base_uri": "https://localhost:8080/"
    },
    "id": "MCNyZwwPQEEv",
    "outputId": "f4989b99-64f1-4b45-854d-18467bb0dda3"
   },
   "outputs": [
    {
     "name": "stdout",
     "output_type": "stream",
     "text": [
      "Collecting git+https://www.github.com/keras-team/keras-contrib.git\n",
      "  Cloning https://www.github.com/keras-team/keras-contrib.git to c:\\users\\administrator\\appdata\\local\\temp\\pip-req-build-nz7o0mxf\n",
      "  Resolved https://www.github.com/keras-team/keras-contrib.git to commit 3fc5ef709e061416f4bc8a92ca3750c824b5d2b0\n",
      "  Preparing metadata (setup.py): started\n",
      "  Preparing metadata (setup.py): finished with status 'done'\n",
      "Requirement already satisfied: keras in c:\\programdata\\anaconda3\\lib\\site-packages (from keras-contrib==2.0.8) (2.11.0)\n",
      "Building wheels for collected packages: keras-contrib\n",
      "  Building wheel for keras-contrib (setup.py): started\n",
      "  Building wheel for keras-contrib (setup.py): finished with status 'done'\n",
      "  Created wheel for keras-contrib: filename=keras_contrib-2.0.8-py3-none-any.whl size=101648 sha256=44a0bce0cf89e6d85886837ae75e30f2bbf6ce6ea52f9d9d64e4d8f6d04448fb\n",
      "  Stored in directory: C:\\Users\\Administrator\\AppData\\Local\\Temp\\pip-ephem-wheel-cache-8j7rj4qk\\wheels\\83\\b3\\99\\125cd08d3e8224b434b1b4badd6f8b2651e0251b7e8f983e60\n",
      "Successfully built keras-contrib\n",
      "Installing collected packages: keras-contrib\n",
      "Successfully installed keras-contrib-2.0.8\n"
     ]
    },
    {
     "name": "stderr",
     "output_type": "stream",
     "text": [
      "  Running command git clone --filter=blob:none --quiet https://www.github.com/keras-team/keras-contrib.git 'C:\\Users\\Administrator\\AppData\\Local\\Temp\\pip-req-build-nz7o0mxf'\n",
      "  warning: redirecting to https://github.com/keras-team/keras-contrib.git/\n"
     ]
    }
   ],
   "source": [
    "!pip install git+https://www.github.com/keras-team/keras-contrib.git"
   ]
  },
  {
   "cell_type": "code",
   "execution_count": 4,
   "id": "e8b75eae-3476-4265-ae3b-2c994daa0a4c",
   "metadata": {
    "colab": {
     "base_uri": "https://localhost:8080/"
    },
    "id": "e8b75eae-3476-4265-ae3b-2c994daa0a4c",
    "outputId": "587bdc3e-9cd3-44a0-f2f7-e36dc145c8a0"
   },
   "outputs": [
    {
     "name": "stdout",
     "output_type": "stream",
     "text": [
      "Requirement already satisfied: seqeval in c:\\programdata\\anaconda3\\lib\\site-packages (1.2.2)\n",
      "Requirement already satisfied: scikit-learn>=0.21.3 in c:\\programdata\\anaconda3\\lib\\site-packages (from seqeval) (1.0.2)\n",
      "Requirement already satisfied: numpy>=1.14.0 in c:\\programdata\\anaconda3\\lib\\site-packages (from seqeval) (1.21.5)\n",
      "Requirement already satisfied: scipy>=1.1.0 in c:\\programdata\\anaconda3\\lib\\site-packages (from scikit-learn>=0.21.3->seqeval) (1.9.1)\n",
      "Requirement already satisfied: joblib>=0.11 in c:\\programdata\\anaconda3\\lib\\site-packages (from scikit-learn>=0.21.3->seqeval) (1.1.0)\n",
      "Requirement already satisfied: threadpoolctl>=2.0.0 in c:\\programdata\\anaconda3\\lib\\site-packages (from scikit-learn>=0.21.3->seqeval) (2.2.0)\n"
     ]
    }
   ],
   "source": [
    "!pip install seqeval"
   ]
  },
  {
   "cell_type": "code",
   "execution_count": 5,
   "id": "9ab33bdb-071d-4add-a886-2d9b438b4e20",
   "metadata": {
    "id": "9ab33bdb-071d-4add-a886-2d9b438b4e20"
   },
   "outputs": [],
   "source": [
    "import pandas as pd\n",
    "import numpy as np"
   ]
  },
  {
   "cell_type": "code",
   "execution_count": 6,
   "id": "ff120fa3-85e7-4da1-88c9-7680a519e952",
   "metadata": {
    "id": "ff120fa3-85e7-4da1-88c9-7680a519e952"
   },
   "outputs": [],
   "source": [
    "df = pd.read_csv('data/train.csv', sep = '\\t',header=None, names=[\"Word\", \"Pos\", \"Chunk\", \"Tag\"])"
   ]
  },
  {
   "cell_type": "code",
   "execution_count": 7,
   "id": "cd11a16a-b66e-4b81-b5fe-d2561a8dcbb0",
   "metadata": {
    "colab": {
     "base_uri": "https://localhost:8080/"
    },
    "id": "cd11a16a-b66e-4b81-b5fe-d2561a8dcbb0",
    "outputId": "f10232cd-83a0-41df-e786-8d791f777ce1"
   },
   "outputs": [
    {
     "name": "stdout",
     "output_type": "stream",
     "text": [
      "     Word Pos Chunk Tag\n",
      "0     Mâu   _     _   O\n",
      "1   thuẫn   _     _   O\n",
      "2    tình   _     _   O\n",
      "3     cảm   _     _   O\n",
      "4       ,   _     _   O\n",
      "5   thanh   _     _   O\n",
      "6    niên   _     _   O\n",
      "7     tạt   _     _   O\n",
      "8    xăng   _     _   O\n",
      "9     đốt   _     _   O\n",
      "10    cửa   _     _   O\n",
      "11   hàng   _     _   O\n",
      "12    bạn   _     _   O\n",
      "13    gái   _     _   O\n",
      "14    Xảy   _     _   O\n",
      "15     ra   _     _   O\n",
      "16    cãi   _     _   O\n",
      "17     vã   _     _   O\n",
      "18      ,   _     _   O\n",
      "19  trong   _     _   O\n"
     ]
    }
   ],
   "source": [
    "print(df.head(20))"
   ]
  },
  {
   "cell_type": "code",
   "execution_count": 8,
   "id": "32fb9a7b-2733-4ce2-b273-3e8c3b7b1e75",
   "metadata": {
    "colab": {
     "base_uri": "https://localhost:8080/",
     "height": 673
    },
    "id": "32fb9a7b-2733-4ce2-b273-3e8c3b7b1e75",
    "outputId": "70a15c76-171a-4f5e-8c2b-583fa578e468"
   },
   "outputs": [
    {
     "data": {
      "text/html": [
       "<div>\n",
       "<style scoped>\n",
       "    .dataframe tbody tr th:only-of-type {\n",
       "        vertical-align: middle;\n",
       "    }\n",
       "\n",
       "    .dataframe tbody tr th {\n",
       "        vertical-align: top;\n",
       "    }\n",
       "\n",
       "    .dataframe thead th {\n",
       "        text-align: right;\n",
       "    }\n",
       "</style>\n",
       "<table border=\"1\" class=\"dataframe\">\n",
       "  <thead>\n",
       "    <tr style=\"text-align: right;\">\n",
       "      <th></th>\n",
       "      <th>Word</th>\n",
       "      <th>Pos</th>\n",
       "      <th>Chunk</th>\n",
       "      <th>Tag</th>\n",
       "    </tr>\n",
       "  </thead>\n",
       "  <tbody>\n",
       "    <tr>\n",
       "      <th>0</th>\n",
       "      <td>Mâu</td>\n",
       "      <td>_</td>\n",
       "      <td>_</td>\n",
       "      <td>O</td>\n",
       "    </tr>\n",
       "    <tr>\n",
       "      <th>1</th>\n",
       "      <td>thuẫn</td>\n",
       "      <td>_</td>\n",
       "      <td>_</td>\n",
       "      <td>O</td>\n",
       "    </tr>\n",
       "    <tr>\n",
       "      <th>2</th>\n",
       "      <td>tình</td>\n",
       "      <td>_</td>\n",
       "      <td>_</td>\n",
       "      <td>O</td>\n",
       "    </tr>\n",
       "    <tr>\n",
       "      <th>3</th>\n",
       "      <td>cảm</td>\n",
       "      <td>_</td>\n",
       "      <td>_</td>\n",
       "      <td>O</td>\n",
       "    </tr>\n",
       "    <tr>\n",
       "      <th>4</th>\n",
       "      <td>,</td>\n",
       "      <td>_</td>\n",
       "      <td>_</td>\n",
       "      <td>O</td>\n",
       "    </tr>\n",
       "    <tr>\n",
       "      <th>...</th>\n",
       "      <td>...</td>\n",
       "      <td>...</td>\n",
       "      <td>...</td>\n",
       "      <td>...</td>\n",
       "    </tr>\n",
       "    <tr>\n",
       "      <th>479248</th>\n",
       "      <td>Cao</td>\n",
       "      <td>_</td>\n",
       "      <td>_</td>\n",
       "      <td>B-PERSON</td>\n",
       "    </tr>\n",
       "    <tr>\n",
       "      <th>479249</th>\n",
       "      <td>Lực</td>\n",
       "      <td>_</td>\n",
       "      <td>_</td>\n",
       "      <td>I-PERSON</td>\n",
       "    </tr>\n",
       "    <tr>\n",
       "      <th>479250</th>\n",
       "      <td>(</td>\n",
       "      <td>_</td>\n",
       "      <td>_</td>\n",
       "      <td>O</td>\n",
       "    </tr>\n",
       "    <tr>\n",
       "      <th>479251</th>\n",
       "      <td>Theo</td>\n",
       "      <td>_</td>\n",
       "      <td>_</td>\n",
       "      <td>O</td>\n",
       "    </tr>\n",
       "    <tr>\n",
       "      <th>479252</th>\n",
       "      <td>NDTV</td>\n",
       "      <td>_</td>\n",
       "      <td>_</td>\n",
       "      <td>B-ORGANIZATION</td>\n",
       "    </tr>\n",
       "  </tbody>\n",
       "</table>\n",
       "<p>479253 rows × 4 columns</p>\n",
       "</div>"
      ],
      "text/plain": [
       "         Word Pos Chunk             Tag\n",
       "0         Mâu   _     _               O\n",
       "1       thuẫn   _     _               O\n",
       "2        tình   _     _               O\n",
       "3         cảm   _     _               O\n",
       "4           ,   _     _               O\n",
       "...       ...  ..   ...             ...\n",
       "479248    Cao   _     _        B-PERSON\n",
       "479249    Lực   _     _        I-PERSON\n",
       "479250      (   _     _               O\n",
       "479251   Theo   _     _               O\n",
       "479252   NDTV   _     _  B-ORGANIZATION\n",
       "\n",
       "[479253 rows x 4 columns]"
      ]
     },
     "execution_count": 8,
     "metadata": {},
     "output_type": "execute_result"
    }
   ],
   "source": [
    "df['Word'] = df['Word'].astype(str)\n",
    "df"
   ]
  },
  {
   "cell_type": "code",
   "execution_count": 9,
   "id": "5727e6ce-c1da-4913-a1a8-55ea69d6f539",
   "metadata": {
    "id": "5727e6ce-c1da-4913-a1a8-55ea69d6f539",
    "tags": []
   },
   "outputs": [],
   "source": [
    "sentence_list = []\n",
    "index = 2\n",
    "sentence_list.insert(0, \"Sentence 1\")\n",
    "for i in range(1, len(df['Word'])+1):\n",
    "    if df['Word'][i-1] == \".\":\n",
    "        sentence_list.append(\"Sentence \" + str(index))\n",
    "        index = index + 1\n",
    "    else:\n",
    "        sentence_list.append(\" \")\n",
    "\n",
    "sentence_list[0] = \"Sentence 1\"\n",
    "\n",
    "#print(sentence_list)"
   ]
  },
  {
   "cell_type": "code",
   "execution_count": 10,
   "id": "49a72e71-d2a1-4ac2-8494-1c2fc5634e2a",
   "metadata": {
    "colab": {
     "base_uri": "https://localhost:8080/",
     "height": 673
    },
    "id": "49a72e71-d2a1-4ac2-8494-1c2fc5634e2a",
    "outputId": "a4433833-b7e1-491f-8309-083008d832b0"
   },
   "outputs": [
    {
     "data": {
      "text/html": [
       "<div>\n",
       "<style scoped>\n",
       "    .dataframe tbody tr th:only-of-type {\n",
       "        vertical-align: middle;\n",
       "    }\n",
       "\n",
       "    .dataframe tbody tr th {\n",
       "        vertical-align: top;\n",
       "    }\n",
       "\n",
       "    .dataframe thead th {\n",
       "        text-align: right;\n",
       "    }\n",
       "</style>\n",
       "<table border=\"1\" class=\"dataframe\">\n",
       "  <thead>\n",
       "    <tr style=\"text-align: right;\">\n",
       "      <th></th>\n",
       "      <th>Word</th>\n",
       "      <th>Pos</th>\n",
       "      <th>Chunk</th>\n",
       "      <th>Tag</th>\n",
       "      <th>Sentence</th>\n",
       "    </tr>\n",
       "  </thead>\n",
       "  <tbody>\n",
       "    <tr>\n",
       "      <th>0</th>\n",
       "      <td>Mâu</td>\n",
       "      <td>_</td>\n",
       "      <td>_</td>\n",
       "      <td>O</td>\n",
       "      <td>Sentence 1</td>\n",
       "    </tr>\n",
       "    <tr>\n",
       "      <th>1</th>\n",
       "      <td>thuẫn</td>\n",
       "      <td>_</td>\n",
       "      <td>_</td>\n",
       "      <td>O</td>\n",
       "      <td></td>\n",
       "    </tr>\n",
       "    <tr>\n",
       "      <th>2</th>\n",
       "      <td>tình</td>\n",
       "      <td>_</td>\n",
       "      <td>_</td>\n",
       "      <td>O</td>\n",
       "      <td></td>\n",
       "    </tr>\n",
       "    <tr>\n",
       "      <th>3</th>\n",
       "      <td>cảm</td>\n",
       "      <td>_</td>\n",
       "      <td>_</td>\n",
       "      <td>O</td>\n",
       "      <td></td>\n",
       "    </tr>\n",
       "    <tr>\n",
       "      <th>4</th>\n",
       "      <td>,</td>\n",
       "      <td>_</td>\n",
       "      <td>_</td>\n",
       "      <td>O</td>\n",
       "      <td></td>\n",
       "    </tr>\n",
       "    <tr>\n",
       "      <th>...</th>\n",
       "      <td>...</td>\n",
       "      <td>...</td>\n",
       "      <td>...</td>\n",
       "      <td>...</td>\n",
       "      <td>...</td>\n",
       "    </tr>\n",
       "    <tr>\n",
       "      <th>479248</th>\n",
       "      <td>Cao</td>\n",
       "      <td>_</td>\n",
       "      <td>_</td>\n",
       "      <td>B-PERSON</td>\n",
       "      <td>Sentence 13014</td>\n",
       "    </tr>\n",
       "    <tr>\n",
       "      <th>479249</th>\n",
       "      <td>Lực</td>\n",
       "      <td>_</td>\n",
       "      <td>_</td>\n",
       "      <td>I-PERSON</td>\n",
       "      <td></td>\n",
       "    </tr>\n",
       "    <tr>\n",
       "      <th>479250</th>\n",
       "      <td>(</td>\n",
       "      <td>_</td>\n",
       "      <td>_</td>\n",
       "      <td>O</td>\n",
       "      <td></td>\n",
       "    </tr>\n",
       "    <tr>\n",
       "      <th>479251</th>\n",
       "      <td>Theo</td>\n",
       "      <td>_</td>\n",
       "      <td>_</td>\n",
       "      <td>O</td>\n",
       "      <td></td>\n",
       "    </tr>\n",
       "    <tr>\n",
       "      <th>479252</th>\n",
       "      <td>NDTV</td>\n",
       "      <td>_</td>\n",
       "      <td>_</td>\n",
       "      <td>B-ORGANIZATION</td>\n",
       "      <td></td>\n",
       "    </tr>\n",
       "  </tbody>\n",
       "</table>\n",
       "<p>479253 rows × 5 columns</p>\n",
       "</div>"
      ],
      "text/plain": [
       "         Word Pos Chunk             Tag        Sentence\n",
       "0         Mâu   _     _               O      Sentence 1\n",
       "1       thuẫn   _     _               O                \n",
       "2        tình   _     _               O                \n",
       "3         cảm   _     _               O                \n",
       "4           ,   _     _               O                \n",
       "...       ...  ..   ...             ...             ...\n",
       "479248    Cao   _     _        B-PERSON  Sentence 13014\n",
       "479249    Lực   _     _        I-PERSON                \n",
       "479250      (   _     _               O                \n",
       "479251   Theo   _     _               O                \n",
       "479252   NDTV   _     _  B-ORGANIZATION                \n",
       "\n",
       "[479253 rows x 5 columns]"
      ]
     },
     "execution_count": 10,
     "metadata": {},
     "output_type": "execute_result"
    }
   ],
   "source": [
    "df['Sentence'] = pd.Series(sentence_list)\n",
    "df"
   ]
  },
  {
   "cell_type": "code",
   "execution_count": 11,
   "id": "7a490280-28c1-48d7-9300-ce6af915531b",
   "metadata": {
    "id": "7a490280-28c1-48d7-9300-ce6af915531b"
   },
   "outputs": [],
   "source": [
    "df['Sentence'] = df['Sentence'].replace(' ', np.nan).ffill()"
   ]
  },
  {
   "cell_type": "code",
   "execution_count": 12,
   "id": "5ab822ed-cde0-4cea-8ef3-bd19a2f89f70",
   "metadata": {
    "colab": {
     "base_uri": "https://localhost:8080/"
    },
    "id": "5ab822ed-cde0-4cea-8ef3-bd19a2f89f70",
    "outputId": "311fd7b9-d427-46ee-f5ea-02e2f68861ad"
   },
   "outputs": [
    {
     "name": "stdout",
     "output_type": "stream",
     "text": [
      "         Word Pos Chunk             Tag    Sentence\n",
      "0         Mâu   _     _               O  Sentence 1\n",
      "1       thuẫn   _     _               O  Sentence 1\n",
      "2        tình   _     _               O  Sentence 1\n",
      "3         cảm   _     _               O  Sentence 1\n",
      "4           ,   _     _               O  Sentence 1\n",
      "5       thanh   _     _               O  Sentence 1\n",
      "6        niên   _     _               O  Sentence 1\n",
      "7         tạt   _     _               O  Sentence 1\n",
      "8        xăng   _     _               O  Sentence 1\n",
      "9         đốt   _     _               O  Sentence 1\n",
      "10        cửa   _     _               O  Sentence 1\n",
      "11       hàng   _     _               O  Sentence 1\n",
      "12        bạn   _     _               O  Sentence 1\n",
      "13        gái   _     _               O  Sentence 1\n",
      "14        Xảy   _     _               O  Sentence 1\n",
      "15         ra   _     _               O  Sentence 1\n",
      "16        cãi   _     _               O  Sentence 1\n",
      "17         vã   _     _               O  Sentence 1\n",
      "18          ,   _     _               O  Sentence 1\n",
      "19      trong   _     _               O  Sentence 1\n",
      "20        lúc   _     _               O  Sentence 1\n",
      "21        bực   _     _               O  Sentence 1\n",
      "22        tức   _     _               O  Sentence 1\n",
      "23          ,   _     _               O  Sentence 1\n",
      "24     Nguyên   _     _        B-PERSON  Sentence 1\n",
      "25        tạt   _     _               O  Sentence 1\n",
      "26       xăng   _     _               O  Sentence 1\n",
      "27        vào   _     _               O  Sentence 1\n",
      "28        cửa   _     _               O  Sentence 1\n",
      "29       hàng   _     _               O  Sentence 1\n",
      "30        rồi   _     _               O  Sentence 1\n",
      "31       kinh   _     _               O  Sentence 1\n",
      "32      doanh   _     _               O  Sentence 1\n",
      "33        của   _     _               O  Sentence 1\n",
      "34        bạn   _     _               O  Sentence 1\n",
      "35        gái   _     _               O  Sentence 1\n",
      "36        rồi   _     _               O  Sentence 1\n",
      "37       châm   _     _               O  Sentence 1\n",
      "38        lửa   _     _               O  Sentence 1\n",
      "39        đốt   _     _               O  Sentence 1\n",
      "40          .   _     _               O  Sentence 1\n",
      "41       Theo   _     _               O  Sentence 2\n",
      "42        tin   _     _               O  Sentence 2\n",
      "43        tức   _     _               O  Sentence 2\n",
      "44       trên   _     _               O  Sentence 2\n",
      "45        báo   _     _               O  Sentence 2\n",
      "46  VnExpress   _     _  B-ORGANIZATION  Sentence 2\n",
      "47          ,   _     _               O  Sentence 2\n",
      "48       ngày   _     _               O  Sentence 2\n",
      "49       22/9   _     _      B-DATETIME  Sentence 2\n"
     ]
    }
   ],
   "source": [
    "print(df.head(50))"
   ]
  },
  {
   "cell_type": "code",
   "execution_count": 13,
   "id": "14671d0b-1189-4e2a-865a-9f0dc7e12f11",
   "metadata": {
    "colab": {
     "base_uri": "https://localhost:8080/",
     "height": 424
    },
    "id": "14671d0b-1189-4e2a-865a-9f0dc7e12f11",
    "outputId": "de13b18c-8cc8-41e5-d1b5-30768c79dd09"
   },
   "outputs": [
    {
     "data": {
      "text/html": [
       "<div>\n",
       "<style scoped>\n",
       "    .dataframe tbody tr th:only-of-type {\n",
       "        vertical-align: middle;\n",
       "    }\n",
       "\n",
       "    .dataframe tbody tr th {\n",
       "        vertical-align: top;\n",
       "    }\n",
       "\n",
       "    .dataframe thead th {\n",
       "        text-align: right;\n",
       "    }\n",
       "</style>\n",
       "<table border=\"1\" class=\"dataframe\">\n",
       "  <thead>\n",
       "    <tr style=\"text-align: right;\">\n",
       "      <th></th>\n",
       "      <th>Sentence</th>\n",
       "      <th>Word</th>\n",
       "      <th>Tag</th>\n",
       "    </tr>\n",
       "  </thead>\n",
       "  <tbody>\n",
       "    <tr>\n",
       "      <th>0</th>\n",
       "      <td>Sentence 1</td>\n",
       "      <td>Mâu</td>\n",
       "      <td>O</td>\n",
       "    </tr>\n",
       "    <tr>\n",
       "      <th>1</th>\n",
       "      <td>Sentence 1</td>\n",
       "      <td>thuẫn</td>\n",
       "      <td>O</td>\n",
       "    </tr>\n",
       "    <tr>\n",
       "      <th>2</th>\n",
       "      <td>Sentence 1</td>\n",
       "      <td>tình</td>\n",
       "      <td>O</td>\n",
       "    </tr>\n",
       "    <tr>\n",
       "      <th>3</th>\n",
       "      <td>Sentence 1</td>\n",
       "      <td>cảm</td>\n",
       "      <td>O</td>\n",
       "    </tr>\n",
       "    <tr>\n",
       "      <th>4</th>\n",
       "      <td>Sentence 1</td>\n",
       "      <td>,</td>\n",
       "      <td>O</td>\n",
       "    </tr>\n",
       "    <tr>\n",
       "      <th>...</th>\n",
       "      <td>...</td>\n",
       "      <td>...</td>\n",
       "      <td>...</td>\n",
       "    </tr>\n",
       "    <tr>\n",
       "      <th>479248</th>\n",
       "      <td>Sentence 13014</td>\n",
       "      <td>Cao</td>\n",
       "      <td>B-PERSON</td>\n",
       "    </tr>\n",
       "    <tr>\n",
       "      <th>479249</th>\n",
       "      <td>Sentence 13014</td>\n",
       "      <td>Lực</td>\n",
       "      <td>I-PERSON</td>\n",
       "    </tr>\n",
       "    <tr>\n",
       "      <th>479250</th>\n",
       "      <td>Sentence 13014</td>\n",
       "      <td>(</td>\n",
       "      <td>O</td>\n",
       "    </tr>\n",
       "    <tr>\n",
       "      <th>479251</th>\n",
       "      <td>Sentence 13014</td>\n",
       "      <td>Theo</td>\n",
       "      <td>O</td>\n",
       "    </tr>\n",
       "    <tr>\n",
       "      <th>479252</th>\n",
       "      <td>Sentence 13014</td>\n",
       "      <td>NDTV</td>\n",
       "      <td>B-ORGANIZATION</td>\n",
       "    </tr>\n",
       "  </tbody>\n",
       "</table>\n",
       "<p>479253 rows × 3 columns</p>\n",
       "</div>"
      ],
      "text/plain": [
       "              Sentence   Word             Tag\n",
       "0           Sentence 1    Mâu               O\n",
       "1           Sentence 1  thuẫn               O\n",
       "2           Sentence 1   tình               O\n",
       "3           Sentence 1    cảm               O\n",
       "4           Sentence 1      ,               O\n",
       "...                ...    ...             ...\n",
       "479248  Sentence 13014    Cao        B-PERSON\n",
       "479249  Sentence 13014    Lực        I-PERSON\n",
       "479250  Sentence 13014      (               O\n",
       "479251  Sentence 13014   Theo               O\n",
       "479252  Sentence 13014   NDTV  B-ORGANIZATION\n",
       "\n",
       "[479253 rows x 3 columns]"
      ]
     },
     "execution_count": 13,
     "metadata": {},
     "output_type": "execute_result"
    }
   ],
   "source": [
    "df1 = df[['Sentence', 'Word', 'Tag']]\n",
    "df1"
   ]
  },
  {
   "cell_type": "code",
   "execution_count": 52,
   "id": "833cfa07-a78a-458e-9c30-9fc7d42a42cc",
   "metadata": {
    "id": "833cfa07-a78a-458e-9c30-9fc7d42a42cc"
   },
   "outputs": [],
   "source": [
    "#Data visualisation\n",
    "import matplotlib.pyplot as plt\n",
    "import seaborn as sns\n",
    "sns.set(color_codes=True)\n",
    "sns.set(font_scale=1)\n",
    "%matplotlib inline\n",
    "%config InlineBackend.figure_format = 'svg'\n",
    "#Modeling\n",
    "from sklearn.model_selection import cross_val_predict, cross_val_score\n",
    "from sklearn.ensemble import RandomForestClassifier\n",
    "from sklearn.metrics import classification_report, make_scorer\n",
    "from sklearn.model_selection import RandomizedSearchCV\n",
    "from sklearn.model_selection import GridSearchCV\n",
    "from tensorflow import keras\n",
    "from keras_preprocessing.sequence import pad_sequences\n",
    "import scipy.stats"
   ]
  },
  {
   "cell_type": "code",
   "execution_count": 53,
   "id": "530d55aa-25af-4828-90c5-344b4ab313de",
   "metadata": {},
   "outputs": [
    {
     "name": "stdout",
     "output_type": "stream",
     "text": [
      "List of tags: B-LOCATION-STRUC, I-DATETIME-SET, O, B-ORGANIZATION-SPORTS, I-DATETIME-DATE, B-LOCATION-GEO, B-LOCATION, B-DATETIME-TIME, B-ORGANIZATION-STOCK, I-PERSON, I-ORGANIZATION-SPORTS, B-ORGANIZATION-MED, I-DATETIME-DURATION, I-ORGANIZATION-MED, B-ORGANIZATION, B-DATETIME-TIMERANGE, I-LOCATION-STRUC, I-DATETIME-TIMERANGE, I-LOCATION, B-DATETIME-DURATION, I-DATETIME-TIME, I-ORGANIZATION-STOCK, I-DATETIME, I-LOCATION-GEO, B-DATETIME-SET, B-DATETIME-DATERANGE, B-DATETIME, B-LOCATION-GPE, I-DATETIME-DATERANGE, I-ORGANIZATION, I-LOCATION-GPE, B-DATETIME-DATE, B-PERSON\n",
      "Total Number of tags 33\n"
     ]
    }
   ],
   "source": [
    "list_tags = list(set(df1[\"Tag\"].values))\n",
    "len_tags = len(list_tags)\n",
    "print(\"List of tags: \" + ', '.join([tag for tag in list_tags]))\n",
    "print(f\"Total Number of tags {len_tags}\")"
   ]
  },
  {
   "cell_type": "code",
   "execution_count": 16,
   "id": "1b4f6ed7-6a4e-4966-9d73-30757efc6b21",
   "metadata": {
    "id": "1b4f6ed7-6a4e-4966-9d73-30757efc6b21"
   },
   "outputs": [],
   "source": [
    "class getsentence(object):\n",
    "    def __init__(self, data):\n",
    "        self.n_sent = 1.0\n",
    "        self.data = data\n",
    "        self.empty = False\n",
    "        agg_func = lambda s: [(w, t) for w, t in zip(s[\"Word\"].values.tolist(),\n",
    "                                                     s[\"Tag\"].values.tolist())]\n",
    "        self.grouped = self.data.groupby(\"Sentence\").apply(agg_func)\n",
    "        self.sentences = [s for s in self.grouped]"
   ]
  },
  {
   "cell_type": "code",
   "execution_count": 17,
   "id": "65f351b9-eebc-4964-b589-c15391f811bd",
   "metadata": {
    "id": "65f351b9-eebc-4964-b589-c15391f811bd"
   },
   "outputs": [],
   "source": [
    "getter = getsentence(df1)"
   ]
  },
  {
   "cell_type": "code",
   "execution_count": 18,
   "id": "30637a63-6dfe-4dca-b688-67753099cff2",
   "metadata": {
    "colab": {
     "base_uri": "https://localhost:8080/"
    },
    "id": "30637a63-6dfe-4dca-b688-67753099cff2",
    "outputId": "690aec18-9cd8-46a6-a5be-42de0dae118d"
   },
   "outputs": [
    {
     "name": "stdout",
     "output_type": "stream",
     "text": [
      "[('Nhiều', 'O'), ('người', 'O'), ('đồn', 'O'), ('đoán', 'O'), (',', 'O'), ('bầu', 'O'), ('Đức', 'B-PERSON'), ('sang', 'O'), ('Thái', 'B-LOCATION-GPE'), ('Lan', 'I-LOCATION-GPE'), ('để', 'O'), ('gặp', 'O'), ('gỡ', 'O'), ('Kiatisak', 'B-PERSON'), ('Mặc', 'O'), ('dù', 'O'), ('vậy', 'O'), (',', 'O'), ('người', 'O'), ('đứng', 'O'), ('đầu', 'O'), ('HAGL', 'B-ORGANIZATION-SPORTS'), ('khẳng', 'O'), ('định', 'O'), ('ông', 'O'), ('chưa', 'O'), ('có', 'O'), ('ý', 'O'), ('định', 'O'), ('mời', 'O'), ('Kiatisak', 'B-PERSON'), ('sang', 'O'), ('Việt', 'B-LOCATION-GPE'), ('Nam', 'I-LOCATION-GPE'), ('làm', 'O'), ('việc', 'O'), ('.', 'O')]\n"
     ]
    }
   ],
   "source": [
    "sentences = getter.sentences\n",
    "#ths is how a sentence will look like.\n",
    "print(sentences[10])"
   ]
  },
  {
   "cell_type": "code",
   "execution_count": 19,
   "id": "U7gdwyw5Qd7Y",
   "metadata": {
    "colab": {
     "base_uri": "https://localhost:8080/"
    },
    "id": "U7gdwyw5Qd7Y",
    "outputId": "fb3ee4b0-6ff9-4dc8-c9bc-02865e8de384"
   },
   "outputs": [
    {
     "name": "stdout",
     "output_type": "stream",
     "text": [
      "Collecting sklearn-crfsuite\n",
      "  Downloading sklearn_crfsuite-0.3.6-py2.py3-none-any.whl (12 kB)\n",
      "Requirement already satisfied: tqdm>=2.0 in c:\\programdata\\anaconda3\\lib\\site-packages (from sklearn-crfsuite) (4.64.1)\n",
      "Collecting python-crfsuite>=0.8.3\n",
      "  Downloading python_crfsuite-0.9.8-cp39-cp39-win_amd64.whl (158 kB)\n",
      "     -------------------------------------- 158.6/158.6 kB 1.9 MB/s eta 0:00:00\n",
      "Requirement already satisfied: tabulate in c:\\programdata\\anaconda3\\lib\\site-packages (from sklearn-crfsuite) (0.8.10)\n",
      "Requirement already satisfied: six in c:\\programdata\\anaconda3\\lib\\site-packages (from sklearn-crfsuite) (1.16.0)\n",
      "Requirement already satisfied: colorama in c:\\programdata\\anaconda3\\lib\\site-packages (from tqdm>=2.0->sklearn-crfsuite) (0.4.5)\n",
      "Installing collected packages: python-crfsuite, sklearn-crfsuite\n",
      "Successfully installed python-crfsuite-0.9.8 sklearn-crfsuite-0.3.6\n"
     ]
    }
   ],
   "source": [
    "!pip install sklearn-crfsuite"
   ]
  },
  {
   "cell_type": "code",
   "execution_count": 20,
   "id": "cddd144b-467d-41ac-8160-7dfbcd7039eb",
   "metadata": {
    "id": "cddd144b-467d-41ac-8160-7dfbcd7039eb"
   },
   "outputs": [],
   "source": [
    "import keras as k\n",
    "import tensorflow as tf\n",
    "from keras.utils import to_categorical\n",
    "from keras.layers import LSTM, Dense, TimeDistributed, Embedding, Bidirectional\n",
    "from tensorflow.keras.layers import Input\n",
    "from keras.models import Model\n",
    "#from tensorflow_addons.layers import CRF\n",
    "from keras.callbacks import ModelCheckpoint\n",
    "from keras.models import Sequential\n",
    "from keras.layers import LSTM, Embedding, Dense, TimeDistributed, Dropout, Bidirectional, SpatialDropout1D\n",
    "from keras_contrib.layers import CRF\n",
    "\n",
    "from sklearn.model_selection import train_test_split\n",
    "import matplotlib.pyplot as plt\n",
    "\n",
    "from sklearn_crfsuite.metrics import flat_classification_report\n",
    "from sklearn.metrics import f1_score\n",
    "from seqeval.metrics import precision_score, recall_score, f1_score, classification_report\n",
    "from keras.preprocessing.text import text_to_word_sequence\n",
    "import pickle\n",
    "import os\n",
    "\n",
    "batch_size = 64\n",
    "epochs = 50\n",
    "max_len = 75\n",
    "embedding = 40\n",
    "hidden_size = 50"
   ]
  },
  {
   "cell_type": "code",
   "execution_count": 21,
   "id": "af167ef7-b58a-41e2-afcd-6e91b5d24594",
   "metadata": {
    "id": "af167ef7-b58a-41e2-afcd-6e91b5d24594"
   },
   "outputs": [],
   "source": [
    "# Xây dựng vocab cho word và tag\n",
    "words = list(df1['Word'].unique())\n",
    "tags = list(df1['Tag'].unique())\n",
    "\n",
    "# Tạo dict word to index, thêm 2 từ đặc biệt là Unknown và Padding\n",
    "word2idx = {w : i + 2 for i, w in enumerate(words)}\n",
    "word2idx[\"UNK\"] = 1\n",
    "word2idx[\"PAD\"] = 0\n",
    "\n",
    "# Tạo dict tag to index, thêm 1 tag đặc biệt và Padding\n",
    "tag2idx = {t : i + 1 for i, t in enumerate(tags)}\n",
    "tag2idx[\"PAD\"] = 0\n",
    "\n",
    "# Tạo 2 dict index to word và index to tag\n",
    "idx2word = {i: w for w, i in word2idx.items()}\n",
    "idx2tag = {i: w for w, i in tag2idx.items()}"
   ]
  },
  {
   "cell_type": "code",
   "execution_count": 22,
   "id": "4f6178b9-5cbc-4f3d-8fd3-f77f0013faff",
   "metadata": {
    "id": "4f6178b9-5cbc-4f3d-8fd3-f77f0013faff"
   },
   "outputs": [],
   "source": [
    "# Chuyển các câu về dạng vector of index\n",
    "X = [[word2idx[w[0]] for w in s] for s in sentences]\n",
    "# Padding các câu về max_len\n",
    "X = pad_sequences(maxlen = max_len, sequences = X, padding = \"post\", value = word2idx[\"PAD\"])\n",
    "# Chuyển các tag về dạng index\n",
    "y = [[tag2idx[w[1]] for w in s] for s in sentences]\n",
    "# Tiền hành padding về max_len\n",
    "y = pad_sequences(maxlen = max_len, sequences = y, padding = \"post\", value = tag2idx[\"PAD\"])"
   ]
  },
  {
   "cell_type": "code",
   "execution_count": 23,
   "id": "fd055735-0927-4386-984e-d9c06d6bb0f9",
   "metadata": {
    "id": "fd055735-0927-4386-984e-d9c06d6bb0f9"
   },
   "outputs": [],
   "source": [
    "#from keras.utils.np_utils import to_categorical\n",
    "num_tag = df['Tag'].nunique()\n",
    "y = [to_categorical(i, num_classes = num_tag + 1) for i in y]"
   ]
  },
  {
   "cell_type": "code",
   "execution_count": 24,
   "id": "7eab71fd-b13d-49d7-95dd-ca0299fff0a6",
   "metadata": {
    "id": "7eab71fd-b13d-49d7-95dd-ca0299fff0a6"
   },
   "outputs": [],
   "source": [
    "#from sklearn.model_selection import train_test_split\n",
    "X_train, X_test, y_train, y_test = train_test_split(X, y, test_size = 0.15)"
   ]
  },
  {
   "cell_type": "code",
   "execution_count": 25,
   "id": "2d34535c-75bc-4b16-9d82-b7c1e6839a58",
   "metadata": {
    "colab": {
     "base_uri": "https://localhost:8080/"
    },
    "id": "2d34535c-75bc-4b16-9d82-b7c1e6839a58",
    "outputId": "9749dafb-8cf9-4349-818c-8775b05a8212"
   },
   "outputs": [
    {
     "name": "stdout",
     "output_type": "stream",
     "text": [
      "Model: \"model\"\n",
      "_________________________________________________________________\n",
      " Layer (type)                Output Shape              Param #   \n",
      "=================================================================\n",
      " input_1 (InputLayer)        [(None, 75)]              0         \n",
      "                                                                 \n",
      " embedding (Embedding)       (None, 75, 75)            953850    \n",
      "                                                                 \n",
      " spatial_dropout1d (SpatialD  (None, 75, 75)           0         \n",
      " ropout1D)                                                       \n",
      "                                                                 \n",
      " bidirectional (Bidirectiona  (None, 75, 200)          140800    \n",
      " l)                                                              \n",
      "                                                                 \n",
      " time_distributed (TimeDistr  (None, 75, 34)           6834      \n",
      " ibuted)                                                         \n",
      "                                                                 \n",
      "=================================================================\n",
      "Total params: 1,101,484\n",
      "Trainable params: 1,101,484\n",
      "Non-trainable params: 0\n",
      "_________________________________________________________________\n"
     ]
    }
   ],
   "source": [
    "input_word = Input(shape = (max_len,))\n",
    "model = Embedding(input_dim = len(words)+2, output_dim = max_len, input_length = max_len)(input_word)\n",
    "model = SpatialDropout1D(0.1)(model)\n",
    "model = Bidirectional(LSTM(units = 100,return_sequences = True, recurrent_dropout = 0.1))(model)\n",
    "out = TimeDistributed(Dense(num_tag+1,activation = 'softmax'))(model)\n",
    "model = Model(input_word,out)\n",
    "\n",
    "model.compile(optimizer = 'adam',loss = 'categorical_crossentropy',metrics = ['accuracy'])\n",
    "model.summary()"
   ]
  },
  {
   "cell_type": "code",
   "execution_count": 26,
   "id": "9cf102a1-49c9-4e81-958f-3803c319d106",
   "metadata": {
    "colab": {
     "base_uri": "https://localhost:8080/"
    },
    "id": "9cf102a1-49c9-4e81-958f-3803c319d106",
    "outputId": "fb90f437-0260-4c6b-c357-e42707f87bc4"
   },
   "outputs": [
    {
     "name": "stdout",
     "output_type": "stream",
     "text": [
      "Epoch 1/150\n",
      "139/139 [==============================] - 31s 191ms/step - loss: 0.6653 - accuracy: 0.8641 - val_loss: 0.2822 - val_accuracy: 0.9532\n",
      "Epoch 2/150\n",
      "139/139 [==============================] - 25s 178ms/step - loss: 0.2390 - accuracy: 0.9540 - val_loss: 0.2048 - val_accuracy: 0.9540\n",
      "Epoch 3/150\n",
      "139/139 [==============================] - 29s 210ms/step - loss: 0.1692 - accuracy: 0.9569 - val_loss: 0.1590 - val_accuracy: 0.9596\n",
      "Epoch 4/150\n",
      "139/139 [==============================] - 29s 210ms/step - loss: 0.1346 - accuracy: 0.9645 - val_loss: 0.1342 - val_accuracy: 0.9661\n",
      "Epoch 5/150\n",
      "139/139 [==============================] - 30s 215ms/step - loss: 0.1110 - accuracy: 0.9705 - val_loss: 0.1181 - val_accuracy: 0.9699\n",
      "Epoch 6/150\n",
      "139/139 [==============================] - 31s 222ms/step - loss: 0.0941 - accuracy: 0.9746 - val_loss: 0.1065 - val_accuracy: 0.9726\n",
      "Epoch 7/150\n",
      "139/139 [==============================] - 30s 219ms/step - loss: 0.0816 - accuracy: 0.9771 - val_loss: 0.0992 - val_accuracy: 0.9742\n",
      "Epoch 8/150\n",
      "139/139 [==============================] - 32s 233ms/step - loss: 0.0719 - accuracy: 0.9791 - val_loss: 0.0921 - val_accuracy: 0.9753\n",
      "Epoch 9/150\n",
      "139/139 [==============================] - 32s 229ms/step - loss: 0.0640 - accuracy: 0.9808 - val_loss: 0.0880 - val_accuracy: 0.9757\n",
      "Epoch 10/150\n",
      "139/139 [==============================] - 31s 226ms/step - loss: 0.0575 - accuracy: 0.9824 - val_loss: 0.0854 - val_accuracy: 0.9766\n",
      "Epoch 11/150\n",
      "139/139 [==============================] - 33s 234ms/step - loss: 0.0531 - accuracy: 0.9836 - val_loss: 0.0838 - val_accuracy: 0.9769\n",
      "Epoch 12/150\n",
      "139/139 [==============================] - 32s 228ms/step - loss: 0.0487 - accuracy: 0.9848 - val_loss: 0.0818 - val_accuracy: 0.9780\n",
      "Epoch 13/150\n",
      "139/139 [==============================] - 26s 190ms/step - loss: 0.0450 - accuracy: 0.9858 - val_loss: 0.0812 - val_accuracy: 0.9783\n",
      "Epoch 14/150\n",
      "139/139 [==============================] - 26s 184ms/step - loss: 0.0412 - accuracy: 0.9869 - val_loss: 0.0814 - val_accuracy: 0.9788\n",
      "Epoch 15/150\n",
      "139/139 [==============================] - 29s 207ms/step - loss: 0.0378 - accuracy: 0.9879 - val_loss: 0.0814 - val_accuracy: 0.9786\n",
      "Epoch 16/150\n",
      "139/139 [==============================] - 34s 242ms/step - loss: 0.0351 - accuracy: 0.9888 - val_loss: 0.0816 - val_accuracy: 0.9789\n",
      "Epoch 17/150\n",
      "139/139 [==============================] - 31s 225ms/step - loss: 0.0325 - accuracy: 0.9897 - val_loss: 0.0838 - val_accuracy: 0.9789\n",
      "Epoch 18/150\n",
      "139/139 [==============================] - 31s 222ms/step - loss: 0.0303 - accuracy: 0.9903 - val_loss: 0.0831 - val_accuracy: 0.9791\n",
      "Epoch 19/150\n",
      "139/139 [==============================] - 31s 226ms/step - loss: 0.0274 - accuracy: 0.9914 - val_loss: 0.0859 - val_accuracy: 0.9795\n",
      "Epoch 20/150\n",
      "139/139 [==============================] - 31s 220ms/step - loss: 0.0253 - accuracy: 0.9921 - val_loss: 0.0863 - val_accuracy: 0.9797\n",
      "Epoch 21/150\n",
      "139/139 [==============================] - 31s 226ms/step - loss: 0.0234 - accuracy: 0.9927 - val_loss: 0.0902 - val_accuracy: 0.9795\n",
      "Epoch 22/150\n",
      "139/139 [==============================] - 31s 226ms/step - loss: 0.0210 - accuracy: 0.9936 - val_loss: 0.0922 - val_accuracy: 0.9797\n",
      "Epoch 23/150\n",
      "139/139 [==============================] - 32s 227ms/step - loss: 0.0198 - accuracy: 0.9939 - val_loss: 0.0909 - val_accuracy: 0.9796\n",
      "Epoch 24/150\n",
      "139/139 [==============================] - 28s 201ms/step - loss: 0.0180 - accuracy: 0.9944 - val_loss: 0.0924 - val_accuracy: 0.9797\n",
      "Epoch 25/150\n",
      "139/139 [==============================] - 28s 204ms/step - loss: 0.0169 - accuracy: 0.9948 - val_loss: 0.0927 - val_accuracy: 0.9798\n",
      "Epoch 26/150\n",
      "139/139 [==============================] - 28s 199ms/step - loss: 0.0157 - accuracy: 0.9952 - val_loss: 0.0988 - val_accuracy: 0.9797\n",
      "Epoch 27/150\n",
      "139/139 [==============================] - 29s 211ms/step - loss: 0.0142 - accuracy: 0.9957 - val_loss: 0.0961 - val_accuracy: 0.9799\n",
      "Epoch 28/150\n",
      "139/139 [==============================] - 28s 204ms/step - loss: 0.0136 - accuracy: 0.9959 - val_loss: 0.0987 - val_accuracy: 0.9798\n",
      "Epoch 29/150\n",
      "139/139 [==============================] - 29s 206ms/step - loss: 0.0125 - accuracy: 0.9962 - val_loss: 0.0999 - val_accuracy: 0.9800\n",
      "Epoch 30/150\n",
      "139/139 [==============================] - 28s 202ms/step - loss: 0.0120 - accuracy: 0.9963 - val_loss: 0.1013 - val_accuracy: 0.9798\n",
      "Epoch 31/150\n",
      "139/139 [==============================] - 28s 200ms/step - loss: 0.0112 - accuracy: 0.9967 - val_loss: 0.1047 - val_accuracy: 0.9801\n",
      "Epoch 32/150\n",
      "139/139 [==============================] - 28s 202ms/step - loss: 0.0100 - accuracy: 0.9970 - val_loss: 0.1073 - val_accuracy: 0.9795\n",
      "Epoch 33/150\n",
      "139/139 [==============================] - 28s 202ms/step - loss: 0.0097 - accuracy: 0.9971 - val_loss: 0.1061 - val_accuracy: 0.9795\n",
      "Epoch 34/150\n",
      "139/139 [==============================] - 28s 201ms/step - loss: 0.0089 - accuracy: 0.9974 - val_loss: 0.1081 - val_accuracy: 0.9799\n",
      "Epoch 35/150\n",
      "139/139 [==============================] - 27s 197ms/step - loss: 0.0083 - accuracy: 0.9976 - val_loss: 0.1085 - val_accuracy: 0.9800\n",
      "Epoch 36/150\n",
      "139/139 [==============================] - 28s 199ms/step - loss: 0.0079 - accuracy: 0.9976 - val_loss: 0.1102 - val_accuracy: 0.9800\n",
      "Epoch 37/150\n",
      "139/139 [==============================] - 24s 172ms/step - loss: 0.0072 - accuracy: 0.9979 - val_loss: 0.1128 - val_accuracy: 0.9803\n",
      "Epoch 38/150\n",
      "139/139 [==============================] - 23s 168ms/step - loss: 0.0070 - accuracy: 0.9980 - val_loss: 0.1141 - val_accuracy: 0.9797\n",
      "Epoch 39/150\n",
      "139/139 [==============================] - 23s 165ms/step - loss: 0.0071 - accuracy: 0.9978 - val_loss: 0.1172 - val_accuracy: 0.9796\n",
      "Epoch 40/150\n",
      "139/139 [==============================] - 23s 164ms/step - loss: 0.0067 - accuracy: 0.9980 - val_loss: 0.1161 - val_accuracy: 0.9799\n",
      "Epoch 41/150\n",
      "139/139 [==============================] - 23s 167ms/step - loss: 0.0058 - accuracy: 0.9983 - val_loss: 0.1183 - val_accuracy: 0.9795\n",
      "Epoch 42/150\n",
      "139/139 [==============================] - 24s 173ms/step - loss: 0.0053 - accuracy: 0.9985 - val_loss: 0.1191 - val_accuracy: 0.9799\n",
      "Epoch 43/150\n",
      "139/139 [==============================] - 23s 165ms/step - loss: 0.0056 - accuracy: 0.9984 - val_loss: 0.1204 - val_accuracy: 0.9799\n",
      "Epoch 44/150\n",
      "139/139 [==============================] - 23s 166ms/step - loss: 0.0051 - accuracy: 0.9985 - val_loss: 0.1198 - val_accuracy: 0.9801\n",
      "Epoch 45/150\n",
      "139/139 [==============================] - 23s 166ms/step - loss: 0.0046 - accuracy: 0.9987 - val_loss: 0.1229 - val_accuracy: 0.9799\n",
      "Epoch 46/150\n",
      "139/139 [==============================] - 24s 169ms/step - loss: 0.0044 - accuracy: 0.9988 - val_loss: 0.1225 - val_accuracy: 0.9796\n",
      "Epoch 47/150\n",
      "139/139 [==============================] - 24s 171ms/step - loss: 0.0041 - accuracy: 0.9988 - val_loss: 0.1284 - val_accuracy: 0.9794\n",
      "Epoch 48/150\n",
      "139/139 [==============================] - 27s 198ms/step - loss: 0.0040 - accuracy: 0.9989 - val_loss: 0.1272 - val_accuracy: 0.9798\n",
      "Epoch 49/150\n",
      "139/139 [==============================] - 28s 198ms/step - loss: 0.0041 - accuracy: 0.9988 - val_loss: 0.1297 - val_accuracy: 0.9798\n",
      "Epoch 50/150\n",
      "139/139 [==============================] - 28s 202ms/step - loss: 0.0039 - accuracy: 0.9989 - val_loss: 0.1279 - val_accuracy: 0.9795\n",
      "Epoch 51/150\n",
      "139/139 [==============================] - 28s 203ms/step - loss: 0.0034 - accuracy: 0.9991 - val_loss: 0.1316 - val_accuracy: 0.9802\n",
      "Epoch 52/150\n",
      "139/139 [==============================] - 28s 202ms/step - loss: 0.0035 - accuracy: 0.9990 - val_loss: 0.1327 - val_accuracy: 0.9799\n",
      "Epoch 53/150\n",
      "139/139 [==============================] - 28s 205ms/step - loss: 0.0034 - accuracy: 0.9991 - val_loss: 0.1318 - val_accuracy: 0.9797\n",
      "Epoch 54/150\n",
      "139/139 [==============================] - 28s 205ms/step - loss: 0.0031 - accuracy: 0.9991 - val_loss: 0.1324 - val_accuracy: 0.9801\n",
      "Epoch 55/150\n",
      "139/139 [==============================] - 28s 204ms/step - loss: 0.0030 - accuracy: 0.9991 - val_loss: 0.1338 - val_accuracy: 0.9802\n",
      "Epoch 56/150\n",
      "139/139 [==============================] - 28s 202ms/step - loss: 0.0028 - accuracy: 0.9992 - val_loss: 0.1378 - val_accuracy: 0.9796\n",
      "Epoch 57/150\n",
      "139/139 [==============================] - 28s 199ms/step - loss: 0.0026 - accuracy: 0.9993 - val_loss: 0.1370 - val_accuracy: 0.9800\n",
      "Epoch 58/150\n",
      "139/139 [==============================] - 28s 204ms/step - loss: 0.0025 - accuracy: 0.9993 - val_loss: 0.1378 - val_accuracy: 0.9796\n",
      "Epoch 59/150\n",
      "139/139 [==============================] - 29s 207ms/step - loss: 0.0024 - accuracy: 0.9993 - val_loss: 0.1398 - val_accuracy: 0.9802\n",
      "Epoch 60/150\n",
      "139/139 [==============================] - 29s 209ms/step - loss: 0.0027 - accuracy: 0.9992 - val_loss: 0.1395 - val_accuracy: 0.9797\n",
      "Epoch 61/150\n",
      "139/139 [==============================] - 28s 204ms/step - loss: 0.0025 - accuracy: 0.9993 - val_loss: 0.1395 - val_accuracy: 0.9804\n",
      "Epoch 62/150\n",
      "139/139 [==============================] - 28s 202ms/step - loss: 0.0024 - accuracy: 0.9993 - val_loss: 0.1402 - val_accuracy: 0.9801\n",
      "Epoch 63/150\n",
      "139/139 [==============================] - 28s 203ms/step - loss: 0.0021 - accuracy: 0.9994 - val_loss: 0.1398 - val_accuracy: 0.9800\n",
      "Epoch 64/150\n",
      "139/139 [==============================] - 28s 201ms/step - loss: 0.0020 - accuracy: 0.9995 - val_loss: 0.1426 - val_accuracy: 0.9798\n",
      "Epoch 65/150\n",
      "139/139 [==============================] - 27s 195ms/step - loss: 0.0020 - accuracy: 0.9995 - val_loss: 0.1406 - val_accuracy: 0.9796\n",
      "Epoch 66/150\n",
      "139/139 [==============================] - 29s 206ms/step - loss: 0.0020 - accuracy: 0.9995 - val_loss: 0.1446 - val_accuracy: 0.9797\n",
      "Epoch 67/150\n",
      "139/139 [==============================] - 27s 194ms/step - loss: 0.0016 - accuracy: 0.9996 - val_loss: 0.1460 - val_accuracy: 0.9804\n",
      "Epoch 68/150\n",
      "139/139 [==============================] - 25s 177ms/step - loss: 0.0015 - accuracy: 0.9996 - val_loss: 0.1469 - val_accuracy: 0.9800\n",
      "Epoch 69/150\n",
      "139/139 [==============================] - 27s 197ms/step - loss: 0.0017 - accuracy: 0.9996 - val_loss: 0.1463 - val_accuracy: 0.9802\n",
      "Epoch 70/150\n",
      "139/139 [==============================] - 28s 202ms/step - loss: 0.0021 - accuracy: 0.9994 - val_loss: 0.1477 - val_accuracy: 0.9802\n",
      "Epoch 71/150\n",
      "139/139 [==============================] - 24s 172ms/step - loss: 0.0021 - accuracy: 0.9994 - val_loss: 0.1464 - val_accuracy: 0.9802\n",
      "Epoch 72/150\n",
      "139/139 [==============================] - 23s 166ms/step - loss: 0.0019 - accuracy: 0.9995 - val_loss: 0.1464 - val_accuracy: 0.9799\n",
      "Epoch 73/150\n",
      "139/139 [==============================] - 24s 174ms/step - loss: 0.0016 - accuracy: 0.9996 - val_loss: 0.1457 - val_accuracy: 0.9805\n",
      "Epoch 74/150\n",
      "139/139 [==============================] - 28s 199ms/step - loss: 0.0017 - accuracy: 0.9995 - val_loss: 0.1505 - val_accuracy: 0.9800\n",
      "Epoch 75/150\n",
      "139/139 [==============================] - 29s 206ms/step - loss: 0.0019 - accuracy: 0.9995 - val_loss: 0.1491 - val_accuracy: 0.9802\n",
      "Epoch 76/150\n",
      "139/139 [==============================] - 28s 203ms/step - loss: 0.0014 - accuracy: 0.9997 - val_loss: 0.1507 - val_accuracy: 0.9801\n",
      "Epoch 77/150\n",
      "139/139 [==============================] - 28s 199ms/step - loss: 0.0012 - accuracy: 0.9997 - val_loss: 0.1502 - val_accuracy: 0.9798\n",
      "Epoch 78/150\n",
      "139/139 [==============================] - 28s 203ms/step - loss: 0.0011 - accuracy: 0.9998 - val_loss: 0.1515 - val_accuracy: 0.9802\n",
      "Epoch 79/150\n",
      "139/139 [==============================] - 29s 207ms/step - loss: 0.0012 - accuracy: 0.9997 - val_loss: 0.1516 - val_accuracy: 0.9805\n",
      "Epoch 80/150\n",
      "139/139 [==============================] - 28s 199ms/step - loss: 0.0016 - accuracy: 0.9996 - val_loss: 0.1547 - val_accuracy: 0.9795\n",
      "Epoch 81/150\n",
      "139/139 [==============================] - 29s 208ms/step - loss: 0.0015 - accuracy: 0.9996 - val_loss: 0.1484 - val_accuracy: 0.9798\n",
      "Epoch 82/150\n",
      "139/139 [==============================] - 29s 206ms/step - loss: 0.0013 - accuracy: 0.9996 - val_loss: 0.1488 - val_accuracy: 0.9800\n",
      "Epoch 83/150\n",
      "139/139 [==============================] - 28s 204ms/step - loss: 0.0013 - accuracy: 0.9997 - val_loss: 0.1527 - val_accuracy: 0.9801\n",
      "Epoch 84/150\n",
      "139/139 [==============================] - 28s 202ms/step - loss: 0.0011 - accuracy: 0.9997 - val_loss: 0.1538 - val_accuracy: 0.9803\n",
      "Epoch 85/150\n",
      "139/139 [==============================] - 28s 203ms/step - loss: 0.0011 - accuracy: 0.9997 - val_loss: 0.1557 - val_accuracy: 0.9798\n",
      "Epoch 86/150\n",
      "139/139 [==============================] - 28s 200ms/step - loss: 0.0011 - accuracy: 0.9997 - val_loss: 0.1568 - val_accuracy: 0.9799\n",
      "Epoch 87/150\n",
      "139/139 [==============================] - 28s 205ms/step - loss: 0.0011 - accuracy: 0.9997 - val_loss: 0.1547 - val_accuracy: 0.9801\n",
      "Epoch 88/150\n",
      "139/139 [==============================] - 28s 203ms/step - loss: 9.2636e-04 - accuracy: 0.9998 - val_loss: 0.1562 - val_accuracy: 0.9804\n",
      "Epoch 89/150\n",
      "139/139 [==============================] - 28s 204ms/step - loss: 8.6968e-04 - accuracy: 0.9998 - val_loss: 0.1535 - val_accuracy: 0.9803\n",
      "Epoch 90/150\n",
      "139/139 [==============================] - 28s 203ms/step - loss: 0.0011 - accuracy: 0.9997 - val_loss: 0.1566 - val_accuracy: 0.9802\n",
      "Epoch 91/150\n",
      "139/139 [==============================] - 28s 201ms/step - loss: 0.0011 - accuracy: 0.9997 - val_loss: 0.1576 - val_accuracy: 0.9797\n",
      "Epoch 92/150\n",
      "139/139 [==============================] - 28s 202ms/step - loss: 9.5926e-04 - accuracy: 0.9998 - val_loss: 0.1586 - val_accuracy: 0.9804\n",
      "Epoch 93/150\n",
      "139/139 [==============================] - 28s 201ms/step - loss: 8.4715e-04 - accuracy: 0.9998 - val_loss: 0.1592 - val_accuracy: 0.9803\n",
      "Epoch 94/150\n",
      "139/139 [==============================] - 26s 186ms/step - loss: 8.8065e-04 - accuracy: 0.9998 - val_loss: 0.1570 - val_accuracy: 0.9805\n",
      "Epoch 95/150\n",
      "139/139 [==============================] - 24s 171ms/step - loss: 0.0010 - accuracy: 0.9997 - val_loss: 0.1618 - val_accuracy: 0.9801\n",
      "Epoch 96/150\n",
      "139/139 [==============================] - 23s 166ms/step - loss: 9.9703e-04 - accuracy: 0.9997 - val_loss: 0.1598 - val_accuracy: 0.9801\n",
      "Epoch 97/150\n",
      "139/139 [==============================] - 24s 173ms/step - loss: 0.0011 - accuracy: 0.9997 - val_loss: 0.1560 - val_accuracy: 0.9801\n",
      "Epoch 98/150\n",
      "139/139 [==============================] - 24s 175ms/step - loss: 0.0012 - accuracy: 0.9997 - val_loss: 0.1589 - val_accuracy: 0.9799\n",
      "Epoch 99/150\n",
      "139/139 [==============================] - 28s 204ms/step - loss: 0.0010 - accuracy: 0.9997 - val_loss: 0.1583 - val_accuracy: 0.9801\n",
      "Epoch 100/150\n",
      "139/139 [==============================] - 29s 205ms/step - loss: 0.0011 - accuracy: 0.9997 - val_loss: 0.1570 - val_accuracy: 0.9801\n",
      "Epoch 101/150\n",
      "139/139 [==============================] - 28s 199ms/step - loss: 9.7804e-04 - accuracy: 0.9997 - val_loss: 0.1617 - val_accuracy: 0.9800\n",
      "Epoch 102/150\n",
      "139/139 [==============================] - 28s 203ms/step - loss: 8.9387e-04 - accuracy: 0.9998 - val_loss: 0.1579 - val_accuracy: 0.9804\n",
      "Epoch 103/150\n",
      "139/139 [==============================] - 29s 207ms/step - loss: 9.2589e-04 - accuracy: 0.9997 - val_loss: 0.1625 - val_accuracy: 0.9802\n",
      "Epoch 104/150\n",
      "139/139 [==============================] - 28s 203ms/step - loss: 8.0458e-04 - accuracy: 0.9998 - val_loss: 0.1605 - val_accuracy: 0.9804\n",
      "Epoch 105/150\n",
      "139/139 [==============================] - 28s 203ms/step - loss: 7.5581e-04 - accuracy: 0.9998 - val_loss: 0.1590 - val_accuracy: 0.9804\n",
      "Epoch 106/150\n",
      "139/139 [==============================] - 27s 198ms/step - loss: 6.2214e-04 - accuracy: 0.9998 - val_loss: 0.1611 - val_accuracy: 0.9806\n",
      "Epoch 107/150\n",
      "139/139 [==============================] - 29s 207ms/step - loss: 7.5914e-04 - accuracy: 0.9998 - val_loss: 0.1606 - val_accuracy: 0.9806\n",
      "Epoch 108/150\n",
      "139/139 [==============================] - 29s 206ms/step - loss: 7.1375e-04 - accuracy: 0.9998 - val_loss: 0.1611 - val_accuracy: 0.9806\n",
      "Epoch 109/150\n",
      "139/139 [==============================] - 29s 208ms/step - loss: 7.0111e-04 - accuracy: 0.9998 - val_loss: 0.1604 - val_accuracy: 0.9798\n",
      "Epoch 110/150\n",
      "139/139 [==============================] - 28s 203ms/step - loss: 8.2722e-04 - accuracy: 0.9998 - val_loss: 0.1631 - val_accuracy: 0.9807\n",
      "Epoch 111/150\n",
      "139/139 [==============================] - 28s 204ms/step - loss: 8.1862e-04 - accuracy: 0.9998 - val_loss: 0.1603 - val_accuracy: 0.9805\n",
      "Epoch 112/150\n",
      "139/139 [==============================] - 28s 200ms/step - loss: 9.9474e-04 - accuracy: 0.9997 - val_loss: 0.1605 - val_accuracy: 0.9804\n",
      "Epoch 113/150\n",
      "139/139 [==============================] - 28s 205ms/step - loss: 9.4706e-04 - accuracy: 0.9997 - val_loss: 0.1607 - val_accuracy: 0.9798\n",
      "Epoch 114/150\n",
      "139/139 [==============================] - 28s 205ms/step - loss: 9.8299e-04 - accuracy: 0.9997 - val_loss: 0.1607 - val_accuracy: 0.9807\n",
      "Epoch 115/150\n",
      "139/139 [==============================] - 28s 205ms/step - loss: 7.6096e-04 - accuracy: 0.9998 - val_loss: 0.1619 - val_accuracy: 0.9805\n",
      "Epoch 116/150\n",
      "139/139 [==============================] - 29s 206ms/step - loss: 7.4027e-04 - accuracy: 0.9998 - val_loss: 0.1608 - val_accuracy: 0.9804\n",
      "Epoch 117/150\n",
      "139/139 [==============================] - 26s 186ms/step - loss: 5.9974e-04 - accuracy: 0.9998 - val_loss: 0.1625 - val_accuracy: 0.9806\n",
      "Epoch 118/150\n",
      "139/139 [==============================] - 29s 207ms/step - loss: 6.5369e-04 - accuracy: 0.9998 - val_loss: 0.1617 - val_accuracy: 0.9804\n",
      "Epoch 119/150\n",
      "139/139 [==============================] - 29s 206ms/step - loss: 6.2883e-04 - accuracy: 0.9998 - val_loss: 0.1623 - val_accuracy: 0.9802\n",
      "Epoch 120/150\n",
      "139/139 [==============================] - 29s 207ms/step - loss: 5.7083e-04 - accuracy: 0.9998 - val_loss: 0.1632 - val_accuracy: 0.9802\n",
      "Epoch 121/150\n",
      "139/139 [==============================] - 24s 173ms/step - loss: 6.2438e-04 - accuracy: 0.9998 - val_loss: 0.1629 - val_accuracy: 0.9806\n",
      "Epoch 122/150\n",
      "139/139 [==============================] - 24s 172ms/step - loss: 5.6097e-04 - accuracy: 0.9999 - val_loss: 0.1671 - val_accuracy: 0.9808\n",
      "Epoch 123/150\n",
      "139/139 [==============================] - 24s 171ms/step - loss: 7.3908e-04 - accuracy: 0.9998 - val_loss: 0.1630 - val_accuracy: 0.9802\n",
      "Epoch 124/150\n",
      "139/139 [==============================] - 24s 169ms/step - loss: 8.5426e-04 - accuracy: 0.9998 - val_loss: 0.1651 - val_accuracy: 0.9804\n",
      "Epoch 125/150\n",
      "139/139 [==============================] - 24s 176ms/step - loss: 6.7973e-04 - accuracy: 0.9998 - val_loss: 0.1657 - val_accuracy: 0.9801\n",
      "Epoch 126/150\n",
      "139/139 [==============================] - 28s 204ms/step - loss: 6.2750e-04 - accuracy: 0.9998 - val_loss: 0.1640 - val_accuracy: 0.9807\n",
      "Epoch 127/150\n",
      "139/139 [==============================] - 29s 206ms/step - loss: 5.2917e-04 - accuracy: 0.9998 - val_loss: 0.1658 - val_accuracy: 0.9805\n",
      "Epoch 128/150\n",
      "139/139 [==============================] - 29s 207ms/step - loss: 5.1869e-04 - accuracy: 0.9999 - val_loss: 0.1667 - val_accuracy: 0.9807\n",
      "Epoch 129/150\n",
      "139/139 [==============================] - 29s 208ms/step - loss: 4.9407e-04 - accuracy: 0.9999 - val_loss: 0.1651 - val_accuracy: 0.9807\n",
      "Epoch 130/150\n",
      "139/139 [==============================] - 29s 210ms/step - loss: 4.8224e-04 - accuracy: 0.9999 - val_loss: 0.1686 - val_accuracy: 0.9808\n",
      "Epoch 131/150\n",
      "139/139 [==============================] - 29s 210ms/step - loss: 6.0466e-04 - accuracy: 0.9998 - val_loss: 0.1668 - val_accuracy: 0.9803\n",
      "Epoch 132/150\n",
      "139/139 [==============================] - 29s 209ms/step - loss: 6.3298e-04 - accuracy: 0.9998 - val_loss: 0.1647 - val_accuracy: 0.9804\n",
      "Epoch 133/150\n",
      "139/139 [==============================] - 29s 207ms/step - loss: 6.0185e-04 - accuracy: 0.9998 - val_loss: 0.1620 - val_accuracy: 0.9805\n",
      "Epoch 134/150\n",
      "139/139 [==============================] - 28s 203ms/step - loss: 6.7256e-04 - accuracy: 0.9998 - val_loss: 0.1686 - val_accuracy: 0.9803\n",
      "Epoch 135/150\n",
      "139/139 [==============================] - 29s 208ms/step - loss: 6.5309e-04 - accuracy: 0.9998 - val_loss: 0.1673 - val_accuracy: 0.9804\n",
      "Epoch 136/150\n",
      "139/139 [==============================] - 28s 204ms/step - loss: 6.3773e-04 - accuracy: 0.9998 - val_loss: 0.1668 - val_accuracy: 0.9804\n",
      "Epoch 137/150\n",
      "139/139 [==============================] - 29s 206ms/step - loss: 9.5050e-04 - accuracy: 0.9997 - val_loss: 0.1693 - val_accuracy: 0.9804\n",
      "Epoch 138/150\n",
      "139/139 [==============================] - 29s 209ms/step - loss: 9.9445e-04 - accuracy: 0.9997 - val_loss: 0.1650 - val_accuracy: 0.9804\n",
      "Epoch 139/150\n",
      "139/139 [==============================] - 28s 203ms/step - loss: 5.5550e-04 - accuracy: 0.9999 - val_loss: 0.1645 - val_accuracy: 0.9808\n",
      "Epoch 140/150\n",
      "139/139 [==============================] - 29s 206ms/step - loss: 5.5389e-04 - accuracy: 0.9999 - val_loss: 0.1656 - val_accuracy: 0.9807\n",
      "Epoch 141/150\n",
      "139/139 [==============================] - 29s 207ms/step - loss: 5.4104e-04 - accuracy: 0.9999 - val_loss: 0.1641 - val_accuracy: 0.9811\n",
      "Epoch 142/150\n",
      "139/139 [==============================] - 29s 206ms/step - loss: 4.8206e-04 - accuracy: 0.9999 - val_loss: 0.1668 - val_accuracy: 0.9808\n",
      "Epoch 143/150\n",
      "139/139 [==============================] - 29s 206ms/step - loss: 4.7855e-04 - accuracy: 0.9999 - val_loss: 0.1661 - val_accuracy: 0.9806\n",
      "Epoch 144/150\n",
      "139/139 [==============================] - 29s 206ms/step - loss: 4.9341e-04 - accuracy: 0.9998 - val_loss: 0.1671 - val_accuracy: 0.9808\n",
      "Epoch 145/150\n",
      "139/139 [==============================] - 28s 204ms/step - loss: 5.0735e-04 - accuracy: 0.9999 - val_loss: 0.1673 - val_accuracy: 0.9806\n",
      "Epoch 146/150\n",
      "139/139 [==============================] - 28s 205ms/step - loss: 4.0012e-04 - accuracy: 0.9999 - val_loss: 0.1656 - val_accuracy: 0.9807\n",
      "Epoch 147/150\n",
      "139/139 [==============================] - 25s 180ms/step - loss: 5.4335e-04 - accuracy: 0.9998 - val_loss: 0.1669 - val_accuracy: 0.9808\n",
      "Epoch 148/150\n",
      "139/139 [==============================] - 24s 171ms/step - loss: 5.5667e-04 - accuracy: 0.9998 - val_loss: 0.1644 - val_accuracy: 0.9809\n",
      "Epoch 149/150\n",
      "139/139 [==============================] - 24s 169ms/step - loss: 6.4297e-04 - accuracy: 0.9998 - val_loss: 0.1669 - val_accuracy: 0.9808\n",
      "Epoch 150/150\n",
      "139/139 [==============================] - 24s 173ms/step - loss: 5.9868e-04 - accuracy: 0.9998 - val_loss: 0.1670 - val_accuracy: 0.9810\n"
     ]
    }
   ],
   "source": [
    "checkpoint = ModelCheckpoint(filepath = 'model.hdf5',\n",
    "                           verbose = 0,\n",
    "                           mode = 'auto',\n",
    "                           save_best_only = True,\n",
    "                           monitor='val_loss')\n",
    "history = model.fit(X_train, np.array(y_train), batch_size = 64, verbose = 1, epochs = 150, validation_split = 0.2, callbacks=[checkpoint])"
   ]
  },
  {
   "cell_type": "code",
   "execution_count": 27,
   "id": "ab43961c-64ee-4a98-ab4e-61a0272002d8",
   "metadata": {
    "colab": {
     "base_uri": "https://localhost:8080/"
    },
    "id": "ab43961c-64ee-4a98-ab4e-61a0272002d8",
    "outputId": "9a3d7727-b82f-4f39-871e-b032daa8b0d0"
   },
   "outputs": [
    {
     "name": "stdout",
     "output_type": "stream",
     "text": [
      "62/62 [==============================] - 1s 18ms/step\n"
     ]
    },
    {
     "name": "stderr",
     "output_type": "stream",
     "text": [
      "C:\\ProgramData\\Anaconda3\\lib\\site-packages\\seqeval\\metrics\\sequence_labeling.py:171: UserWarning: PAD seems not to be NE tag.\n",
      "  warnings.warn('{} seems not to be NE tag.'.format(chunk))\n"
     ]
    },
    {
     "name": "stdout",
     "output_type": "stream",
     "text": [
      "F1-score is : 74.4%\n"
     ]
    }
   ],
   "source": [
    "# Test với toàn bộ tập test\n",
    "y_pred = model.predict(X_test)\n",
    "y_pred = np.argmax(y_pred, axis=-1)\n",
    "y_test_true = np.argmax(y_test, -1)\n",
    "\n",
    "# Kiểm thử F1-Score\n",
    "y_pred = [[idx2tag[i] for i in row] for row in y_pred]\n",
    "y_test_true = [[idx2tag[i] for i in row] for row in y_test_true]\n",
    "print(\"F1-score is : {:.1%}\".format(f1_score(y_test_true, y_pred)))"
   ]
  },
  {
   "cell_type": "code",
   "execution_count": 50,
   "id": "OOHuqCkIcSwx",
   "metadata": {
    "colab": {
     "base_uri": "https://localhost:8080/"
    },
    "id": "OOHuqCkIcSwx",
    "outputId": "45b19464-bc84-41d9-9bbf-91161f5f5839"
   },
   "outputs": [
    {
     "name": "stdout",
     "output_type": "stream",
     "text": [
      "1/1 [==============================] - 0s 23ms/step\n",
      "Example #99\n",
      "Word           ||True\t\t\t||Pred\n",
      "**************************************************\n",
      "Bốn            : O              \t O\n",
      "bị             : O              \t O\n",
      "cáo            : O              \t O\n",
      "được           : O              \t O\n",
      "VKS            : O              \t O\n",
      "đề             : O              \t O\n",
      "nghị           : O              \t O\n",
      "miễn           : O              \t O\n",
      "hình           : O              \t O\n",
      "phạt           : O              \t O\n",
      "gồm            : O              \t O\n",
      ":              : O              \t O\n",
      "Nguyễn         : B-PERSON       \t B-PERSON\n",
      "Việt           : I-PERSON       \t I-PERSON\n",
      "Hà             : I-PERSON       \t I-PERSON\n",
      ",              : O              \t O\n",
      "nguyên         : O              \t O\n",
      "GĐ             : O              \t O\n",
      "chi            : O              \t O\n",
      "nhánh          : O              \t O\n",
      "Thái           : B-LOCATION     \t B-LOCATION\n",
      "Bình           : I-LOCATION     \t I-LOCATION\n",
      ";              : O              \t O\n",
      "Nguyễn         : B-PERSON       \t B-PERSON\n",
      "Phan           : I-PERSON       \t I-PERSON\n",
      "Trung          : I-PERSON       \t I-PERSON\n",
      "Kiên           : I-PERSON       \t I-PERSON\n",
      ",              : O              \t O\n",
      "nguyên         : O              \t O\n",
      "GĐ             : O              \t O\n",
      "phòng          : B-ORGANIZATION \t B-ORGANIZATION\n",
      "Giao           : I-ORGANIZATION \t I-ORGANIZATION\n",
      "dịch           : I-ORGANIZATION \t I-ORGANIZATION\n",
      "Đông           : B-LOCATION     \t B-LOCATION\n",
      "Đô             : I-LOCATION     \t I-LOCATION\n",
      ";              : O              \t O\n",
      "Nguyễn         : B-PERSON       \t B-PERSON\n",
      "Thị            : I-PERSON       \t I-PERSON\n",
      "Loan           : I-PERSON       \t I-PERSON\n",
      ",              : O              \t O\n",
      "nguyên         : O              \t O\n",
      "GĐ             : O              \t O\n",
      "PGD            : B-ORGANIZATION \t O\n",
      "Trung          : B-LOCATION     \t B-LOCATION\n",
      "Yên            : I-LOCATION     \t I-LOCATION\n",
      ";              : O              \t O\n",
      "và             : O              \t O\n",
      "Trần           : B-PERSON       \t B-PERSON\n",
      "Anh            : I-PERSON       \t I-PERSON\n",
      "Thiết          : I-PERSON       \t I-PERSON\n",
      ",              : O              \t O\n",
      "nguyên         : O              \t O\n",
      "GĐ             : O              \t O\n",
      "chi            : O              \t O\n",
      "nhánh          : O              \t O\n",
      "Hà             : B-LOCATION     \t B-LOCATION\n",
      "Nội            : I-LOCATION     \t I-LOCATION\n",
      ".              : O              \t O\n"
     ]
    }
   ],
   "source": [
    "idx = np.random.randint(0,X_test.shape[0])\n",
    "\n",
    "p = model.predict(np.array([X_test[idx]]))\n",
    "p = np.argmax(p, axis=-1)\n",
    "true = np.argmax(y_test[idx], -1)\n",
    "\n",
    "print(\"Example #{}\".format(idx))\n",
    "\n",
    "print(\"{:15}||{:5}||{}\".format(\"Word\", \"True\\t\\t\\t\", \"Pred\"))\n",
    "print(50 * \"*\")\n",
    "for w, t, pred in zip(X_test[idx], true, p[0]):\n",
    "    if w != 0:\n",
    "        print(\"{:15}: {:15}\\t {}\".format(words[w-2], idx2tag[t], idx2tag[pred]))"
   ]
  },
  {
   "cell_type": "code",
   "execution_count": 42,
   "id": "2d762e64-b8f8-42eb-93c3-3040f09aca38",
   "metadata": {},
   "outputs": [
    {
     "name": "stderr",
     "output_type": "stream",
     "text": [
      "C:\\ProgramData\\Anaconda3\\lib\\site-packages\\seqeval\\metrics\\v1.py:57: UndefinedMetricWarning: Precision and F-score are ill-defined and being set to 0.0 in labels with no predicted samples. Use `zero_division` parameter to control this behavior.\n",
      "  _warn_prf(average, modifier, msg_start, len(result))\n"
     ]
    },
    {
     "name": "stdout",
     "output_type": "stream",
     "text": [
      "                     precision    recall  f1-score   support\n",
      "\n",
      "                 AD       1.00      1.00      1.00      1834\n",
      "           DATETIME       0.39      0.39      0.39       199\n",
      "      DATETIME-DATE       0.26      0.24      0.25        74\n",
      " DATETIME-DATERANGE       0.00      0.00      0.00        10\n",
      "  DATETIME-DURATION       0.42      0.41      0.42        68\n",
      "       DATETIME-SET       0.00      0.00      0.00         4\n",
      "      DATETIME-TIME       0.15      0.24      0.18        21\n",
      " DATETIME-TIMERANGE       0.28      0.16      0.20        31\n",
      "           LOCATION       0.48      0.56      0.52       558\n",
      "       LOCATION-GEO       0.36      0.40      0.38        20\n",
      "       LOCATION-GPE       0.48      0.45      0.47       438\n",
      "     LOCATION-STRUC       0.32      0.32      0.32        25\n",
      "       ORGANIZATION       0.58      0.65      0.61       604\n",
      "   ORGANIZATION-MED       0.11      0.09      0.10        11\n",
      "ORGANIZATION-SPORTS       0.74      0.80      0.77       101\n",
      " ORGANIZATION-STOCK       0.00      0.00      0.00         1\n",
      "             PERSON       0.80      0.81      0.81       842\n",
      "\n",
      "          micro avg       0.73      0.76      0.74      4841\n",
      "          macro avg       0.38      0.38      0.38      4841\n",
      "       weighted avg       0.74      0.76      0.74      4841\n",
      "\n"
     ]
    }
   ],
   "source": [
    "print(classification_report(y_test_true, y_pred))"
   ]
  },
  {
   "cell_type": "code",
   "execution_count": 43,
   "id": "1fb05232-5a6e-4b02-b7af-f3c48dab4cc3",
   "metadata": {},
   "outputs": [],
   "source": [
    "def feature_map(word):\n",
    "    return np.array([word.istitle(), word.islower(), word.isupper(), len(word),\n",
    "                     word.isdigit(),  word.isalpha()])"
   ]
  },
  {
   "cell_type": "code",
   "execution_count": 44,
   "id": "47df3d88-2616-45ba-9905-bb6196033103",
   "metadata": {},
   "outputs": [],
   "source": [
    "words1 = [feature_map(w) for w in df1[\"Word\"].values.tolist()]\n",
    "tags1 = df1[\"Tag\"].values.tolist()"
   ]
  },
  {
   "cell_type": "code",
   "execution_count": 46,
   "id": "2cc96905-9b7e-4c21-a86d-d83ea29ca8e6",
   "metadata": {},
   "outputs": [
    {
     "name": "stderr",
     "output_type": "stream",
     "text": [
      "C:\\ProgramData\\Anaconda3\\lib\\site-packages\\sklearn\\model_selection\\_split.py:676: UserWarning: The least populated class in y has only 1 members, which is less than n_splits=5.\n",
      "  warnings.warn(\n"
     ]
    }
   ],
   "source": [
    "#Random Forest classifier\n",
    "pred = cross_val_predict(RandomForestClassifier(n_estimators=20), X=X_train, y=np.array(y_train), cv=5)"
   ]
  },
  {
   "cell_type": "code",
   "execution_count": 49,
   "id": "2146600d-9d65-4bce-804c-b32a010f733b",
   "metadata": {},
   "outputs": [
    {
     "name": "stderr",
     "output_type": "stream",
     "text": [
      "C:\\ProgramData\\Anaconda3\\lib\\site-packages\\sklearn\\metrics\\_classification.py:1318: UndefinedMetricWarning: Precision and F-score are ill-defined and being set to 0.0 in labels with no predicted samples. Use `zero_division` parameter to control this behavior.\n",
      "  _warn_prf(average, modifier, msg_start, len(result))\n",
      "C:\\ProgramData\\Anaconda3\\lib\\site-packages\\sklearn\\metrics\\_classification.py:1318: UndefinedMetricWarning: Precision and F-score are ill-defined and being set to 0.0 in labels with no predicted samples. Use `zero_division` parameter to control this behavior.\n",
      "  _warn_prf(average, modifier, msg_start, len(result))\n"
     ]
    },
    {
     "name": "stdout",
     "output_type": "stream",
     "text": [
      "                       precision    recall  f1-score   support\n",
      "\n",
      "           B-DATETIME       0.38      0.29      0.33      1262\n",
      "      B-DATETIME-DATE       0.00      0.00      0.00       548\n",
      " B-DATETIME-DATERANGE       0.00      0.00      0.00        70\n",
      "  B-DATETIME-DURATION       0.00      0.00      0.00       432\n",
      "       B-DATETIME-SET       0.00      0.00      0.00        21\n",
      "      B-DATETIME-TIME       0.00      0.00      0.00       201\n",
      " B-DATETIME-TIMERANGE       0.00      0.00      0.00       163\n",
      "           B-LOCATION       0.07      0.00      0.00      3910\n",
      "       B-LOCATION-GEO       0.00      0.00      0.00       125\n",
      "       B-LOCATION-GPE       0.30      0.01      0.02      3174\n",
      "     B-LOCATION-STRUC       0.00      0.00      0.00       226\n",
      "       B-ORGANIZATION       0.46      0.06      0.11      4453\n",
      "   B-ORGANIZATION-MED       0.00      0.00      0.00        62\n",
      "B-ORGANIZATION-SPORTS       0.55      0.19      0.29      1129\n",
      " B-ORGANIZATION-STOCK       0.00      0.00      0.00         3\n",
      "             B-PERSON       0.31      0.20      0.24      6222\n",
      "           I-DATETIME       0.00      0.00      0.00       996\n",
      "      I-DATETIME-DATE       0.00      0.00      0.00       464\n",
      " I-DATETIME-DATERANGE       0.00      0.00      0.00       148\n",
      "  I-DATETIME-DURATION       0.00      0.00      0.00       595\n",
      "       I-DATETIME-SET       0.00      0.00      0.00        81\n",
      "      I-DATETIME-TIME       0.00      0.00      0.00       253\n",
      " I-DATETIME-TIMERANGE       0.00      0.00      0.00       274\n",
      "           I-LOCATION       0.00      0.00      0.00      4309\n",
      "       I-LOCATION-GEO       0.00      0.00      0.00       164\n",
      "       I-LOCATION-GPE       0.00      0.00      0.00      3025\n",
      "     I-LOCATION-STRUC       0.00      0.00      0.00       706\n",
      "       I-ORGANIZATION       0.27      0.00      0.00      8614\n",
      "   I-ORGANIZATION-MED       0.00      0.00      0.00       218\n",
      "I-ORGANIZATION-SPORTS       0.00      0.00      0.00      1123\n",
      " I-ORGANIZATION-STOCK       0.00      0.00      0.00         1\n",
      "             I-PERSON       0.44      0.00      0.00      6033\n",
      "                    O       0.91      1.00      0.95    430248\n",
      "\n",
      "             accuracy                           0.90    479253\n",
      "            macro avg       0.11      0.05      0.06    479253\n",
      "         weighted avg       0.84      0.90      0.86    479253\n",
      "\n"
     ]
    },
    {
     "name": "stderr",
     "output_type": "stream",
     "text": [
      "C:\\ProgramData\\Anaconda3\\lib\\site-packages\\sklearn\\metrics\\_classification.py:1318: UndefinedMetricWarning: Precision and F-score are ill-defined and being set to 0.0 in labels with no predicted samples. Use `zero_division` parameter to control this behavior.\n",
      "  _warn_prf(average, modifier, msg_start, len(result))\n"
     ]
    }
   ],
   "source": [
    "from sklearn.metrics import classification_report\n",
    "report = classification_report(y_pred=pred, y_true=tags1)\n",
    "print(report)"
   ]
  },
  {
   "cell_type": "code",
   "execution_count": null,
   "id": "a4cfc0ef-b245-4991-9bc1-391fc9347ed2",
   "metadata": {},
   "outputs": [],
   "source": []
  }
 ],
 "metadata": {
  "colab": {
   "provenance": []
  },
  "kernelspec": {
   "display_name": "Python 3 (ipykernel)",
   "language": "python",
   "name": "python3"
  },
  "language_info": {
   "codemirror_mode": {
    "name": "ipython",
    "version": 3
   },
   "file_extension": ".py",
   "mimetype": "text/x-python",
   "name": "python",
   "nbconvert_exporter": "python",
   "pygments_lexer": "ipython3",
   "version": "3.9.13"
  }
 },
 "nbformat": 4,
 "nbformat_minor": 5
}
